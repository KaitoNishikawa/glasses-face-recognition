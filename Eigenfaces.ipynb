{
 "cells": [
  {
   "cell_type": "code",
   "execution_count": 26,
   "metadata": {},
   "outputs": [],
   "source": [
    "import os\n",
    "import cv2\n",
    "import numpy as np\n"
   ]
  },
  {
   "cell_type": "code",
   "execution_count": 16,
   "metadata": {},
   "outputs": [
    {
     "name": "stdout",
     "output_type": "stream",
     "text": [
      "Zion.jpg\n",
      "(96, 72)\n",
      "Urara.jpg\n",
      "(96, 72)\n",
      "Cynthia.jpg\n",
      "(96, 72)\n",
      "Troy.jpg\n",
      "(96, 72)\n",
      "Aloha.jpg\n",
      "(96, 72)\n",
      "Kai.jpg\n",
      "(96, 72)\n",
      "Hong.jpg\n",
      "(96, 72)\n",
      "Todd.jpg\n",
      "(96, 72)\n",
      "Kane.jpg\n",
      "(96, 72)\n"
     ]
    }
   ],
   "source": [
    "directory = \"formatted_dataset\"\n",
    "dataset_matrix = [] # all the data in a matrix\n",
    "\n",
    "for filename in os.listdir(directory): # we do this every time, just in case, new data is added\n",
    "    f = os.path.join(directory, filename)\n",
    "    print(filename)\n",
    "\n",
    "    image_array = cv2.imread(f, cv2.IMREAD_GRAYSCALE)\n",
    "    print(image_array.shape)\n",
    "    #dataset_matrix = np.append(dataset_matrix, image_array, axis = 0)\n",
    "    dataset_matrix.append(image_array)\n"
   ]
  },
  {
   "cell_type": "code",
   "execution_count": 17,
   "metadata": {},
   "outputs": [
    {
     "data": {
      "text/plain": [
       "(9, 96, 72)"
      ]
     },
     "execution_count": 17,
     "metadata": {},
     "output_type": "execute_result"
    }
   ],
   "source": [
    "np_dataset_matrix = np.array(dataset_matrix)\n",
    "np_dataset_matrix.shape"
   ]
  },
  {
   "cell_type": "code",
   "execution_count": 19,
   "metadata": {},
   "outputs": [
    {
     "data": {
      "text/plain": [
       "(9, 6912)"
      ]
     },
     "execution_count": 19,
     "metadata": {},
     "output_type": "execute_result"
    }
   ],
   "source": [
    "flatten_data = np_dataset_matrix.reshape(9, 96*72)\n",
    "flatten_data.shape"
   ]
  },
  {
   "cell_type": "code",
   "execution_count": 25,
   "metadata": {},
   "outputs": [
    {
     "data": {
      "text/plain": [
       "array([104.3828125 ,  98.62398727, 110.50448495, 131.05917245,\n",
       "       104.80092593,  78.3708044 , 112.77604167, 107.69733796,\n",
       "        86.54253472])"
      ]
     },
     "execution_count": 25,
     "metadata": {},
     "output_type": "execute_result"
    }
   ],
   "source": [
    "mean_data = np.mean(flatten_data, axis=1)\n",
    "mean_data"
   ]
  }
 ],
 "metadata": {
  "kernelspec": {
   "display_name": "face-recog",
   "language": "python",
   "name": "python3"
  },
  "language_info": {
   "codemirror_mode": {
    "name": "ipython",
    "version": 3
   },
   "file_extension": ".py",
   "mimetype": "text/x-python",
   "name": "python",
   "nbconvert_exporter": "python",
   "pygments_lexer": "ipython3",
   "version": "3.13.1"
  }
 },
 "nbformat": 4,
 "nbformat_minor": 2
}
